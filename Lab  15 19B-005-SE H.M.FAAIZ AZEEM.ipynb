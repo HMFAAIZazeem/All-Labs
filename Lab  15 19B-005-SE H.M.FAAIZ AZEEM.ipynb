{
 "cells": [
  {
   "cell_type": "code",
   "execution_count": 1,
   "metadata": {
    "scrolled": true
   },
   "outputs": [
    {
     "name": "stdout",
     "output_type": "stream",
     "text": [
      "C:\\Users\\19b-005-se\\Desktop\n",
      "C:\\Users\\19b-005-se\\Desktop\\lab 15\n"
     ]
    }
   ],
   "source": [
    "# PROGRAM 1\n",
    "import pandas as pd \n",
    "import os\n",
    "print(os.path.abspath('../'))\n",
    "file_path = os.path.abspath('C:/Users/19b-005-se/Desktop/lab 15')\n",
    "print(file_path)\n",
    "train = pd.read_csv(file_path+'/train_income_data_AAII.csv') \n",
    "test = pd.read_csv(file_path+'/train_income_data_AAII.csv')\n"
   ]
  },
  {
   "cell_type": "code",
   "execution_count": 21,
   "metadata": {},
   "outputs": [
    {
     "data": {
      "text/html": [
       "<div>\n",
       "<style scoped>\n",
       "    .dataframe tbody tr th:only-of-type {\n",
       "        vertical-align: middle;\n",
       "    }\n",
       "\n",
       "    .dataframe tbody tr th {\n",
       "        vertical-align: top;\n",
       "    }\n",
       "\n",
       "    .dataframe thead th {\n",
       "        text-align: right;\n",
       "    }\n",
       "</style>\n",
       "<table border=\"1\" class=\"dataframe\">\n",
       "  <thead>\n",
       "    <tr style=\"text-align: right;\">\n",
       "      <th></th>\n",
       "      <th>ID</th>\n",
       "      <th>Age</th>\n",
       "      <th>Workclass</th>\n",
       "      <th>Education</th>\n",
       "      <th>Marital.Status</th>\n",
       "      <th>Occupation</th>\n",
       "      <th>Relationship</th>\n",
       "      <th>Race</th>\n",
       "      <th>Sex</th>\n",
       "      <th>Hours.Per.Week</th>\n",
       "      <th>Native.Country</th>\n",
       "      <th>Income.Group</th>\n",
       "    </tr>\n",
       "  </thead>\n",
       "  <tbody>\n",
       "    <tr>\n",
       "      <th>0</th>\n",
       "      <td>1</td>\n",
       "      <td>39</td>\n",
       "      <td>State-gov</td>\n",
       "      <td>Bachelors</td>\n",
       "      <td>Never-married</td>\n",
       "      <td>Adm-clerical</td>\n",
       "      <td>Not-in-family</td>\n",
       "      <td>White</td>\n",
       "      <td>Male</td>\n",
       "      <td>40</td>\n",
       "      <td>United-States</td>\n",
       "      <td>&lt;=50K</td>\n",
       "    </tr>\n",
       "    <tr>\n",
       "      <th>1</th>\n",
       "      <td>2</td>\n",
       "      <td>50</td>\n",
       "      <td>Self-emp-not-inc</td>\n",
       "      <td>Bachelors</td>\n",
       "      <td>Married-civ-spouse</td>\n",
       "      <td>Exec-managerial</td>\n",
       "      <td>Husband</td>\n",
       "      <td>White</td>\n",
       "      <td>Male</td>\n",
       "      <td>13</td>\n",
       "      <td>United-States</td>\n",
       "      <td>&lt;=50K</td>\n",
       "    </tr>\n",
       "    <tr>\n",
       "      <th>2</th>\n",
       "      <td>3</td>\n",
       "      <td>38</td>\n",
       "      <td>Private</td>\n",
       "      <td>HS-grad</td>\n",
       "      <td>Divorced</td>\n",
       "      <td>Handlers-cleaners</td>\n",
       "      <td>Not-in-family</td>\n",
       "      <td>White</td>\n",
       "      <td>Male</td>\n",
       "      <td>40</td>\n",
       "      <td>United-States</td>\n",
       "      <td>&lt;=50K</td>\n",
       "    </tr>\n",
       "    <tr>\n",
       "      <th>3</th>\n",
       "      <td>4</td>\n",
       "      <td>53</td>\n",
       "      <td>Private</td>\n",
       "      <td>11th</td>\n",
       "      <td>Married-civ-spouse</td>\n",
       "      <td>Handlers-cleaners</td>\n",
       "      <td>Husband</td>\n",
       "      <td>Black</td>\n",
       "      <td>Male</td>\n",
       "      <td>40</td>\n",
       "      <td>United-States</td>\n",
       "      <td>&lt;=50K</td>\n",
       "    </tr>\n",
       "    <tr>\n",
       "      <th>4</th>\n",
       "      <td>5</td>\n",
       "      <td>28</td>\n",
       "      <td>Private</td>\n",
       "      <td>Bachelors</td>\n",
       "      <td>Married-civ-spouse</td>\n",
       "      <td>Prof-specialty</td>\n",
       "      <td>Wife</td>\n",
       "      <td>Black</td>\n",
       "      <td>Female</td>\n",
       "      <td>40</td>\n",
       "      <td>Cuba</td>\n",
       "      <td>&lt;=50K</td>\n",
       "    </tr>\n",
       "  </tbody>\n",
       "</table>\n",
       "</div>"
      ],
      "text/plain": [
       "   ID  Age         Workclass  Education      Marital.Status  \\\n",
       "0   1   39         State-gov  Bachelors       Never-married   \n",
       "1   2   50  Self-emp-not-inc  Bachelors  Married-civ-spouse   \n",
       "2   3   38           Private    HS-grad            Divorced   \n",
       "3   4   53           Private       11th  Married-civ-spouse   \n",
       "4   5   28           Private  Bachelors  Married-civ-spouse   \n",
       "\n",
       "          Occupation   Relationship   Race     Sex  Hours.Per.Week  \\\n",
       "0       Adm-clerical  Not-in-family  White    Male              40   \n",
       "1    Exec-managerial        Husband  White    Male              13   \n",
       "2  Handlers-cleaners  Not-in-family  White    Male              40   \n",
       "3  Handlers-cleaners        Husband  Black    Male              40   \n",
       "4     Prof-specialty           Wife  Black  Female              40   \n",
       "\n",
       "  Native.Country Income.Group  \n",
       "0  United-States        <=50K  \n",
       "1  United-States        <=50K  \n",
       "2  United-States        <=50K  \n",
       "3  United-States        <=50K  \n",
       "4           Cuba        <=50K  "
      ]
     },
     "execution_count": 21,
     "metadata": {},
     "output_type": "execute_result"
    }
   ],
   "source": [
    "# Program 2\n",
    "train.head()"
   ]
  },
  {
   "cell_type": "code",
   "execution_count": 23,
   "metadata": {},
   "outputs": [
    {
     "data": {
      "text/plain": [
       "(32561, 12)"
      ]
     },
     "execution_count": 23,
     "metadata": {},
     "output_type": "execute_result"
    }
   ],
   "source": [
    "# Program 3\n",
    "train.shape"
   ]
  },
  {
   "cell_type": "code",
   "execution_count": 25,
   "metadata": {},
   "outputs": [
    {
     "data": {
      "text/plain": [
       "ID                 int64\n",
       "Age                int64\n",
       "Workclass         object\n",
       "Education         object\n",
       "Marital.Status    object\n",
       "Occupation        object\n",
       "Relationship      object\n",
       "Race              object\n",
       "Sex               object\n",
       "Hours.Per.Week     int64\n",
       "Native.Country    object\n",
       "Income.Group      object\n",
       "dtype: object"
      ]
     },
     "execution_count": 25,
     "metadata": {},
     "output_type": "execute_result"
    }
   ],
   "source": [
    "# Program 4\n",
    "train.dtypes  "
   ]
  },
  {
   "cell_type": "code",
   "execution_count": 26,
   "metadata": {},
   "outputs": [
    {
     "name": "stdout",
     "output_type": "stream",
     "text": [
      "Index(['Workclass', 'Education', 'Marital.Status', 'Occupation',\n",
      "       'Relationship', 'Race', 'Sex', 'Native.Country', 'Income.Group'],\n",
      "      dtype='object')\n"
     ]
    }
   ],
   "source": [
    "# Program 5\n",
    "categorical_var = train.dtypes.loc[train.dtypes=='object'].index  \n",
    "print(categorical_var)  "
   ]
  },
  {
   "cell_type": "code",
   "execution_count": 27,
   "metadata": {},
   "outputs": [
    {
     "data": {
      "text/plain": [
       "Workclass          9\n",
       "Education         16\n",
       "Marital.Status     7\n",
       "Occupation        15\n",
       "Relationship       6\n",
       "Race               5\n",
       "Sex                2\n",
       "Native.Country    42\n",
       "Income.Group       2\n",
       "dtype: int64"
      ]
     },
     "execution_count": 27,
     "metadata": {},
     "output_type": "execute_result"
    }
   ],
   "source": [
    "# Program 6\n",
    "#Number of Unique values in each column \n",
    "train[categorical_var].apply(lambda x:len(x.unique()))"
   ]
  },
  {
   "cell_type": "code",
   "execution_count": 28,
   "metadata": {},
   "outputs": [
    {
     "data": {
      "text/plain": [
       "9"
      ]
     },
     "execution_count": 28,
     "metadata": {},
     "output_type": "execute_result"
    }
   ],
   "source": [
    "#Program 7\n",
    "train['Workclass'].unique() \n",
    "len(train['Workclass'].unique())  "
   ]
  },
  {
   "cell_type": "code",
   "execution_count": 33,
   "metadata": {},
   "outputs": [
    {
     "data": {
      "text/plain": [
       "White                 27816\n",
       "Black                  3124\n",
       "Asian-Pac-Islander     1039\n",
       "Amer-Indian-Eskimo      311\n",
       "Other                   271\n",
       "Name: Race, dtype: int64"
      ]
     },
     "execution_count": 33,
     "metadata": {},
     "output_type": "execute_result"
    }
   ],
   "source": [
    "# Program 8\n",
    "# Here we can see that 6 variables have less than 10 unique values but others have 15 or more unique values which seem to be too high. \n",
    "# Pandas dataframes have an inbuilt routine called value_counts which gives the count of each category. \n",
    "# We'll take 2 examples here to perform univariate analysis. \n",
    "train['Race'].unique()\n",
    "# Print counts of each category \n",
    "train['Race'].value_counts() "
   ]
  },
  {
   "cell_type": "code",
   "execution_count": 34,
   "metadata": {},
   "outputs": [
    {
     "data": {
      "text/plain": [
       "United-States                 0.895857\n",
       "Mexico                        0.019748\n",
       "Philippines                   0.006081\n",
       "Germany                       0.004207\n",
       "Canada                        0.003716\n",
       "Puerto-Rico                   0.003501\n",
       "El-Salvador                   0.003255\n",
       "India                         0.003071\n",
       "Cuba                          0.002918\n",
       "England                       0.002764\n",
       "Jamaica                       0.002488\n",
       "South                         0.002457\n",
       "China                         0.002303\n",
       "Italy                         0.002242\n",
       "Dominican-Republic            0.002150\n",
       "Vietnam                       0.002058\n",
       "Guatemala                     0.001966\n",
       "Japan                         0.001904\n",
       "Poland                        0.001843\n",
       "Columbia                      0.001812\n",
       "Taiwan                        0.001566\n",
       "Haiti                         0.001351\n",
       "Iran                          0.001321\n",
       "Portugal                      0.001136\n",
       "Nicaragua                     0.001044\n",
       "Peru                          0.000952\n",
       "Greece                        0.000891\n",
       "France                        0.000891\n",
       "Ecuador                       0.000860\n",
       "Ireland                       0.000737\n",
       "Hong                          0.000614\n",
       "Trinadad&Tobago               0.000584\n",
       "Cambodia                      0.000584\n",
       "Laos                          0.000553\n",
       "Thailand                      0.000553\n",
       "Yugoslavia                    0.000491\n",
       "Outlying-US(Guam-USVI-etc)    0.000430\n",
       "Hungary                       0.000399\n",
       "Honduras                      0.000399\n",
       "Scotland                      0.000369\n",
       "Holand-Netherlands            0.000031\n",
       "Name: Native.Country, dtype: float64"
      ]
     },
     "execution_count": 34,
     "metadata": {},
     "output_type": "execute_result"
    }
   ],
   "source": [
    "# Program 9\n",
    "train['Native.Country'].value_counts()  \n",
    "train['Native.Country'].value_counts()/train.shape[0]  "
   ]
  },
  {
   "cell_type": "code",
   "execution_count": 3,
   "metadata": {},
   "outputs": [
    {
     "name": "stdout",
     "output_type": "stream",
     "text": [
      "Income.Group  <=50K  >50K    All\n",
      "Sex                             \n",
      "Female         9592  1179  10771\n",
      "Male          15128  6662  21790\n",
      "All           24720  7841  32561\n"
     ]
    }
   ],
   "source": [
    "# Program 10\n",
    "# Analysis of Categorical vs Categorical variables\n",
    "cross_tab = pd.crosstab(train['Sex'],train['Income.Group'],margins=True)\n",
    "print(cross_tab) \n"
   ]
  },
  {
   "cell_type": "code",
   "execution_count": 4,
   "metadata": {},
   "outputs": [
    {
     "data": {
      "text/plain": [
       "<matplotlib.axes._subplots.AxesSubplot at 0xbf884a4240>"
      ]
     },
     "execution_count": 4,
     "metadata": {},
     "output_type": "execute_result"
    },
    {
     "data": {
      "image/png": "[encoded data removed]",
      "text/plain": [
       "<matplotlib.figure.Figure at 0xbf87dcfb00>"
      ]
     },
     "metadata": {},
     "output_type": "display_data"
    }
   ],
   "source": [
    "# Program 11\n",
    "%matplotlib inline\n",
    "cross_tab.iloc[:-1,:-1].plot(kind='bar',stacked=True, color=['red','blue'], grid=True)"
   ]
  },
  {
   "cell_type": "code",
   "execution_count": 8,
   "metadata": {},
   "outputs": [
    {
     "data": {
      "text/html": [
       "<div>\n",
       "<style scoped>\n",
       "    .dataframe tbody tr th:only-of-type {\n",
       "        vertical-align: middle;\n",
       "    }\n",
       "\n",
       "    .dataframe tbody tr th {\n",
       "        vertical-align: top;\n",
       "    }\n",
       "\n",
       "    .dataframe thead th {\n",
       "        text-align: right;\n",
       "    }\n",
       "</style>\n",
       "<table border=\"1\" class=\"dataframe\">\n",
       "  <thead>\n",
       "    <tr style=\"text-align: right;\">\n",
       "      <th>Income.Group</th>\n",
       "      <th>&lt;=50K</th>\n",
       "      <th>&gt;50K</th>\n",
       "      <th>All</th>\n",
       "    </tr>\n",
       "    <tr>\n",
       "      <th>Sex</th>\n",
       "      <th></th>\n",
       "      <th></th>\n",
       "      <th></th>\n",
       "    </tr>\n",
       "  </thead>\n",
       "  <tbody>\n",
       "    <tr>\n",
       "      <th>Female</th>\n",
       "      <td>0.890539</td>\n",
       "      <td>0.109461</td>\n",
       "      <td>1.0</td>\n",
       "    </tr>\n",
       "    <tr>\n",
       "      <th>Male</th>\n",
       "      <td>0.694263</td>\n",
       "      <td>0.305737</td>\n",
       "      <td>1.0</td>\n",
       "    </tr>\n",
       "    <tr>\n",
       "      <th>All</th>\n",
       "      <td>0.759190</td>\n",
       "      <td>0.240810</td>\n",
       "      <td>1.0</td>\n",
       "    </tr>\n",
       "  </tbody>\n",
       "</table>\n",
       "</div>"
      ],
      "text/plain": [
       "Income.Group     <=50K      >50K  All\n",
       "Sex                                  \n",
       "Female        0.890539  0.109461  1.0\n",
       "Male          0.694263  0.305737  1.0\n",
       "All           0.759190  0.240810  1.0"
      ]
     },
     "execution_count": 8,
     "metadata": {},
     "output_type": "execute_result"
    }
   ],
   "source": [
    "# Program 12\n",
    "# Lets define the above figures and charts in percentage for better analysis and comparison\n",
    "def convert_percent(ct_val):  \n",
    "    return ct_val/float(ct_val[-1])  \n",
    "cross_tab2 = cross_tab.apply(convert_percent,axis=1)  \n",
    "cross_tab2  "
   ]
  },
  {
   "cell_type": "code",
   "execution_count": 10,
   "metadata": {},
   "outputs": [
    {
     "data": {
      "text/plain": [
       "<matplotlib.axes._subplots.AxesSubplot at 0xbf8a1039b0>"
      ]
     },
     "execution_count": 10,
     "metadata": {},
     "output_type": "execute_result"
    },
    {
     "data": {
      "image/png": "[encoded data removed]",
      "text/plain": [
       "<matplotlib.figure.Figure at 0xbf8a102b00>"
      ]
     },
     "metadata": {},
     "output_type": "display_data"
    }
   ],
   "source": [
    "# Program 13\n",
    "cross_tab2.iloc[:-1,:-1].plot(kind='bar', stacked=True, color=['red','blue'], grid=False)"
   ]
  },
  {
   "cell_type": "code",
   "execution_count": 12,
   "metadata": {},
   "outputs": [
    {
     "data": {
      "text/plain": [
       "<matplotlib.axes._subplots.AxesSubplot at 0xbf88848208>"
      ]
     },
     "execution_count": 12,
     "metadata": {},
     "output_type": "execute_result"
    },
    {
     "data": {
      "image/png": "[encoded data removed]",
      "text/plain": [
       "<matplotlib.figure.Figure at 0xbf87dacb00>"
      ]
     },
     "metadata": {},
     "output_type": "display_data"
    }
   ],
   "source": [
    "# Program 13\n",
    "cross_tab2.iloc[:-1,:-1].plot(kind='bar', stacked=True, color=['red','blue'], grid=True, title='Income Analysis') "
   ]
  },
  {
   "cell_type": "code",
   "execution_count": 13,
   "metadata": {},
   "outputs": [
    {
     "data": {
      "text/plain": [
       "<matplotlib.axes._subplots.AxesSubplot at 0xbf8892df60>"
      ]
     },
     "execution_count": 13,
     "metadata": {},
     "output_type": "execute_result"
    },
    {
     "data": {
      "image/png": "[encoded data removed]",
      "text/plain": [
       "<matplotlib.figure.Figure at 0xbf88884c88>"
      ]
     },
     "metadata": {},
     "output_type": "display_data"
    }
   ],
   "source": [
    "# Program 14\n",
    "train.plot('Age','Hours.Per.Week', kind='Scatter', grid=True)  "
   ]
  },
  {
   "cell_type": "code",
   "execution_count": 14,
   "metadata": {},
   "outputs": [
    {
     "data": {
      "text/plain": [
       "<matplotlib.axes._subplots.AxesSubplot at 0xbf89a16128>"
      ]
     },
     "execution_count": 14,
     "metadata": {},
     "output_type": "execute_result"
    },
    {
     "data": {
      "image/png": "[encoded data removed]",
      "text/plain": [
       "<matplotlib.figure.Figure at 0xbf8997b5c0>"
      ]
     },
     "metadata": {},
     "output_type": "display_data"
    }
   ],
   "source": [
    "# Program 15\n",
    "train.median()  \n",
    "train.boxplot(column='Age',by='Sex')  "
   ]
  },
  {
   "cell_type": "code",
   "execution_count": 15,
   "metadata": {},
   "outputs": [
    {
     "data": {
      "text/plain": [
       "<matplotlib.axes._subplots.AxesSubplot at 0xbf899f0b70>"
      ]
     },
     "execution_count": 15,
     "metadata": {},
     "output_type": "execute_result"
    },
    {
     "data": {
      "image/png": "[encoded data removed]",
      "text/plain": [
       "<matplotlib.figure.Figure at 0xbf8a05d9b0>"
      ]
     },
     "metadata": {},
     "output_type": "display_data"
    }
   ],
   "source": [
    "# Program 16\n",
    "train.boxplot(column='Age',by='Sex') "
   ]
  },
  {
   "cell_type": "code",
   "execution_count": 16,
   "metadata": {},
   "outputs": [
    {
     "data": {
      "text/html": [
       "<div>\n",
       "<style scoped>\n",
       "    .dataframe tbody tr th:only-of-type {\n",
       "        vertical-align: middle;\n",
       "    }\n",
       "\n",
       "    .dataframe tbody tr th {\n",
       "        vertical-align: top;\n",
       "    }\n",
       "\n",
       "    .dataframe thead th {\n",
       "        text-align: right;\n",
       "    }\n",
       "</style>\n",
       "<table border=\"1\" class=\"dataframe\">\n",
       "  <thead>\n",
       "    <tr style=\"text-align: right;\">\n",
       "      <th></th>\n",
       "      <th>ID</th>\n",
       "      <th>Age</th>\n",
       "      <th>Hours.Per.Week</th>\n",
       "    </tr>\n",
       "  </thead>\n",
       "  <tbody>\n",
       "    <tr>\n",
       "      <th>count</th>\n",
       "      <td>21790.000000</td>\n",
       "      <td>21790.000000</td>\n",
       "      <td>21790.000000</td>\n",
       "    </tr>\n",
       "    <tr>\n",
       "      <th>mean</th>\n",
       "      <td>16264.666223</td>\n",
       "      <td>39.433547</td>\n",
       "      <td>42.428086</td>\n",
       "    </tr>\n",
       "    <tr>\n",
       "      <th>std</th>\n",
       "      <td>9412.830322</td>\n",
       "      <td>13.370630</td>\n",
       "      <td>12.119755</td>\n",
       "    </tr>\n",
       "    <tr>\n",
       "      <th>min</th>\n",
       "      <td>1.000000</td>\n",
       "      <td>17.000000</td>\n",
       "      <td>1.000000</td>\n",
       "    </tr>\n",
       "    <tr>\n",
       "      <th>25%</th>\n",
       "      <td>8124.250000</td>\n",
       "      <td>29.000000</td>\n",
       "      <td>40.000000</td>\n",
       "    </tr>\n",
       "    <tr>\n",
       "      <th>50%</th>\n",
       "      <td>16250.500000</td>\n",
       "      <td>38.000000</td>\n",
       "      <td>40.000000</td>\n",
       "    </tr>\n",
       "    <tr>\n",
       "      <th>75%</th>\n",
       "      <td>24421.750000</td>\n",
       "      <td>48.000000</td>\n",
       "      <td>49.000000</td>\n",
       "    </tr>\n",
       "    <tr>\n",
       "      <th>max</th>\n",
       "      <td>32560.000000</td>\n",
       "      <td>90.000000</td>\n",
       "      <td>99.000000</td>\n",
       "    </tr>\n",
       "  </tbody>\n",
       "</table>\n",
       "</div>"
      ],
      "text/plain": [
       "                 ID           Age  Hours.Per.Week\n",
       "count  21790.000000  21790.000000    21790.000000\n",
       "mean   16264.666223     39.433547       42.428086\n",
       "std     9412.830322     13.370630       12.119755\n",
       "min        1.000000     17.000000        1.000000\n",
       "25%     8124.250000     29.000000       40.000000\n",
       "50%    16250.500000     38.000000       40.000000\n",
       "75%    24421.750000     48.000000       49.000000\n",
       "max    32560.000000     90.000000       99.000000"
      ]
     },
     "execution_count": 16,
     "metadata": {},
     "output_type": "execute_result"
    }
   ],
   "source": [
    "# Programm 17\n",
    "df_male = train.loc[train['Sex']=='Male'] \n",
    "df_male.head() \n",
    "df_male.median()\n",
    "df_male.describe() "
   ]
  },
  {
   "cell_type": "code",
   "execution_count": 24,
   "metadata": {},
   "outputs": [
    {
     "data": {
      "image/png": "[encoded data removed]",
      "text/plain": [
       "<matplotlib.figure.Figure at 0xbf89d19da0>"
      ]
     },
     "metadata": {},
     "output_type": "display_data"
    }
   ],
   "source": [
    "# program 18\n",
    "import matplotlib.pyplot as plt  \n",
    "from collections import Counter  \n",
    "def make_chart_simple_line_chart(plt):  \n",
    "    years = [1950, 1960, 1970, 1980, 1990, 2000, 2010]    \n",
    "    gdp = [300.2, 543.3, 1075.9, 2862.5, 5979.6, 10289.7, 14958.3]  \n",
    " \n",
    " # create a line chart, years on x-axis, gdp on y-axis  \n",
    "    plt.plot(years, gdp, color='green', marker='o', linestyle='solid')   \n",
    "# add a title  \n",
    "plt.title(\"Nominal GDP\")  \n",
    " \n",
    "# add a label to the y-axis   \n",
    "plt.ylabel(\"Billions of $\")    \n",
    "plt.show()  \n"
   ]
  },
  {
   "cell_type": "code",
   "execution_count": null,
   "metadata": {},
   "outputs": [],
   "source": []
  }
 ],
 "metadata": {
  "kernelspec": {
   "display_name": "Python 3",
   "language": "python",
   "name": "python3"
  },
  "language_info": {
   "codemirror_mode": {
    "name": "ipython",
    "version": 3
   },
   "file_extension": ".py",
   "mimetype": "text/x-python",
   "name": "python",
   "nbconvert_exporter": "python",
   "pygments_lexer": "ipython3",
   "version": "3.6.4"
  }
 },
 "nbformat": 4,
 "nbformat_minor": 2
}
